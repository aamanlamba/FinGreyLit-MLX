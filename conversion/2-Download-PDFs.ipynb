{
 "cells": [
  {
   "cell_type": "markdown",
   "id": "62d910db",
   "metadata": {},
   "source": [
    "# Download PDFs\n",
    "\n",
    "This notebook will download all the PDF files and store them under `pdfs/` so that subsequent processing steps can make use of their content."
   ]
  },
  {
   "cell_type": "code",
   "execution_count": 5,
   "id": "465e6de9",
   "metadata": {},
   "outputs": [
    {
     "name": "stdout",
     "output_type": "stream",
     "text": [
      "downloading PDFs in ../metadata/article-en-test.jsonl\n",
      "wrote https://www.doria.fi/bitstream/handle/10024/182782/107883-Article Text-213924-1-10-20211120 Ostling.pdf as ../pdfs/www.doria.fi_handle_10024_182782.pdf\n",
      "../pdfs/www.doria.fi_handle_10024_182782.pdf\n",
      "wrote https://taju.uniarts.fi/bitstream/handle/10024/6005/Järvinen_Great_Horizons_AM.pdf as ../pdfs/taju.uniarts.fi_handle_10024_6005.pdf\n",
      "../pdfs/taju.uniarts.fi_handle_10024_6005.pdf\n",
      "wrote https://osuva.uwasa.fi/bitstream/handle/10024/11652/Osuva_Tabatabaei_Setayesh Nazar_Shafie-khah_Catalão_2020.pdf as ../pdfs/osuva.uwasa.fi_handle_10024_11652.pdf\n",
      "../pdfs/osuva.uwasa.fi_handle_10024_11652.pdf\n",
      "wrote https://osuva.uwasa.fi/bitstream/handle/10024/11231/Alander_ym_2013.pdf as ../pdfs/osuva.uwasa.fi_handle_10024_11231.pdf\n",
      "../pdfs/osuva.uwasa.fi_handle_10024_11231.pdf\n",
      "wrote https://www.theseus.fi/bitstream/handle/10024/780577/Trustworthy_AI_Covid-19.pdf as ../pdfs/www.theseus.fi_handle_10024_780577.pdf\n",
      "../pdfs/www.theseus.fi_handle_10024_780577.pdf\n",
      "downloading PDFs in ../metadata/article-en-train.jsonl\n",
      "wrote https://www.doria.fi/bitstream/handle/10024/185486/salafi 112804-Article Text-238911-1-10-20220611.pdf as ../pdfs/www.doria.fi_handle_10024_185486.pdf\n",
      "../pdfs/www.doria.fi_handle_10024_185486.pdf\n",
      "wrote https://www.theseus.fi/bitstream/handle/10024/370904/RT_A_Systems_Engineering_Inspired_Method_for_Studying_Entrepreneurship_Programs.pdf as ../pdfs/www.theseus.fi_handle_10024_370904.pdf\n",
      "../pdfs/www.theseus.fi_handle_10024_370904.pdf\n",
      "wrote https://www.theseus.fi/bitstream/handle/10024/345047/Adverse_perinatal_outcomes_in_665244_.pdf as ../pdfs/www.theseus.fi_handle_10024_345047.pdf\n",
      "../pdfs/www.theseus.fi_handle_10024_345047.pdf\n",
      "wrote https://osuva.uwasa.fi/bitstream/handle/10024/11457/Osuva_Cao_Wei_Mei_Shafie-khah_Catalao_2020.pdf as ../pdfs/osuva.uwasa.fi_handle_10024_11457.pdf\n",
      "../pdfs/osuva.uwasa.fi_handle_10024_11457.pdf\n",
      "wrote https://www.doria.fi/bitstream/handle/10024/180719/architectural visions.pdf as ../pdfs/www.doria.fi_handle_10024_180719.pdf\n",
      "../pdfs/www.doria.fi_handle_10024_180719.pdf\n"
     ]
    }
   ],
   "source": [
    "import os.path\n",
    "import glob\n",
    "import json\n",
    "\n",
    "import requests\n",
    "\n",
    "metadata_files = glob.glob(\"../metadata/article-en-*.jsonl\")\n",
    "\n",
    "def id_to_fn(identifier):\n",
    "    \"\"\"convert a URI identifier to a simpler string we can use as a filename for the PDF\"\"\"\n",
    "    return '../pdfs/' + identifier.replace('https://', '').replace('/','_') + \".pdf\"\n",
    "\n",
    "def download(file_url, identifier):\n",
    "    \"\"\"download a PDF file, with the given identifier, from the given URL (unless this was done already)\n",
    "    and return a path to the PDF file\"\"\"\n",
    "    path = id_to_fn(identifier)\n",
    "    if os.path.exists(path) and os.path.getsize(path) > 0:\n",
    "        return path\n",
    "\n",
    "    response = requests.get(file_url)\n",
    "    with open(path, \"wb\") as f:\n",
    "        f.write(response.content)\n",
    "        print(f\"wrote {file_url} as {path}\")\n",
    "    return path\n",
    "\n",
    "for mdfile in sorted(metadata_files):\n",
    "    print(f\"downloading PDFs in {mdfile}\")\n",
    "    with open(mdfile) as infile:\n",
    "        i=0\n",
    "        for line in infile:\n",
    "            if i<5:\n",
    "                rec = json.loads(line)\n",
    "                pdf_path = download(rec[\"url\"], rec[\"id\"])\n",
    "                print(pdf_path)\n",
    "                i=i+1\n",
    "            else:\n",
    "                break"
   ]
  },
  {
   "cell_type": "code",
   "execution_count": null,
   "id": "82c145d3",
   "metadata": {},
   "outputs": [],
   "source": []
  }
 ],
 "metadata": {
  "kernelspec": {
   "display_name": ".venv",
   "language": "python",
   "name": "python3"
  },
  "language_info": {
   "codemirror_mode": {
    "name": "ipython",
    "version": 3
   },
   "file_extension": ".py",
   "mimetype": "text/x-python",
   "name": "python",
   "nbconvert_exporter": "python",
   "pygments_lexer": "ipython3",
   "version": "3.11.6"
  }
 },
 "nbformat": 4,
 "nbformat_minor": 5
}
