{
 "cells": [
  {
   "cell_type": "markdown",
   "metadata": {},
   "source": [
    "# Fine-tune meta-llama/Llama-3.2-1B-Instruct using mlx framework and llm-datasets"
   ]
  },
  {
   "cell_type": "markdown",
   "metadata": {},
   "source": []
  },
  {
   "cell_type": "code",
   "execution_count": 3,
   "metadata": {},
   "outputs": [
    {
     "name": "stdout",
     "output_type": "stream",
     "text": [
      "Requirement already satisfied: mlx in /Users/aamanlamba/Documents/Code/FinGreyLit/.venv/lib/python3.11/site-packages (from -r requirements.txt (line 1)) (0.21.1)\n",
      "Collecting mlx_lm (from -r requirements.txt (line 2))\n",
      "  Using cached mlx_lm-0.20.5-py3-none-any.whl.metadata (9.2 kB)\n",
      "Requirement already satisfied: transformers in /Users/aamanlamba/Documents/Code/FinGreyLit/.venv/lib/python3.11/site-packages (from -r requirements.txt (line 3)) (4.47.1)\n",
      "Collecting datasets (from -r requirements.txt (line 4))\n",
      "  Using cached datasets-3.2.0-py3-none-any.whl.metadata (20 kB)\n",
      "Requirement already satisfied: huggingface_hub in /Users/aamanlamba/Documents/Code/FinGreyLit/.venv/lib/python3.11/site-packages (from -r requirements.txt (line 5)) (0.27.0)\n",
      "Requirement already satisfied: pandas in /Users/aamanlamba/Documents/Code/FinGreyLit/.venv/lib/python3.11/site-packages (from -r requirements.txt (line 6)) (2.2.3)\n",
      "Requirement already satisfied: matplotlib in /Users/aamanlamba/Documents/Code/FinGreyLit/.venv/lib/python3.11/site-packages (from -r requirements.txt (line 7)) (3.10.0)\n",
      "Requirement already satisfied: pathlib in /Users/aamanlamba/Documents/Code/FinGreyLit/.venv/lib/python3.11/site-packages (from -r requirements.txt (line 8)) (1.0.1)\n",
      "Requirement already satisfied: ollama in /Users/aamanlamba/Documents/Code/FinGreyLit/.venv/lib/python3.11/site-packages (from -r requirements.txt (line 9)) (0.4.5)\n",
      "Requirement already satisfied: pyarrow in /Users/aamanlamba/Documents/Code/FinGreyLit/.venv/lib/python3.11/site-packages (from -r requirements.txt (line 10)) (18.1.0)\n",
      "Requirement already satisfied: numpy in /Users/aamanlamba/Documents/Code/FinGreyLit/.venv/lib/python3.11/site-packages (from mlx_lm->-r requirements.txt (line 2)) (2.2.1)\n",
      "Requirement already satisfied: protobuf in /Users/aamanlamba/Documents/Code/FinGreyLit/.venv/lib/python3.11/site-packages (from mlx_lm->-r requirements.txt (line 2)) (5.29.2)\n",
      "Requirement already satisfied: pyyaml in /Users/aamanlamba/Documents/Code/FinGreyLit/.venv/lib/python3.11/site-packages (from mlx_lm->-r requirements.txt (line 2)) (6.0.2)\n",
      "Requirement already satisfied: jinja2 in /Users/aamanlamba/Documents/Code/FinGreyLit/.venv/lib/python3.11/site-packages (from mlx_lm->-r requirements.txt (line 2)) (3.1.5)\n",
      "Requirement already satisfied: filelock in /Users/aamanlamba/Documents/Code/FinGreyLit/.venv/lib/python3.11/site-packages (from transformers->-r requirements.txt (line 3)) (3.16.1)\n",
      "Requirement already satisfied: packaging>=20.0 in /Users/aamanlamba/Documents/Code/FinGreyLit/.venv/lib/python3.11/site-packages (from transformers->-r requirements.txt (line 3)) (24.2)\n",
      "Requirement already satisfied: regex!=2019.12.17 in /Users/aamanlamba/Documents/Code/FinGreyLit/.venv/lib/python3.11/site-packages (from transformers->-r requirements.txt (line 3)) (2024.11.6)\n",
      "Requirement already satisfied: requests in /Users/aamanlamba/Documents/Code/FinGreyLit/.venv/lib/python3.11/site-packages (from transformers->-r requirements.txt (line 3)) (2.32.3)\n",
      "Requirement already satisfied: tokenizers<0.22,>=0.21 in /Users/aamanlamba/Documents/Code/FinGreyLit/.venv/lib/python3.11/site-packages (from transformers->-r requirements.txt (line 3)) (0.21.0)\n",
      "Requirement already satisfied: safetensors>=0.4.1 in /Users/aamanlamba/Documents/Code/FinGreyLit/.venv/lib/python3.11/site-packages (from transformers->-r requirements.txt (line 3)) (0.5.0)\n",
      "Requirement already satisfied: tqdm>=4.27 in /Users/aamanlamba/Documents/Code/FinGreyLit/.venv/lib/python3.11/site-packages (from transformers->-r requirements.txt (line 3)) (4.67.1)\n",
      "Requirement already satisfied: dill<0.3.9,>=0.3.0 in /Users/aamanlamba/Documents/Code/FinGreyLit/.venv/lib/python3.11/site-packages (from datasets->-r requirements.txt (line 4)) (0.3.8)\n",
      "Requirement already satisfied: xxhash in /Users/aamanlamba/Documents/Code/FinGreyLit/.venv/lib/python3.11/site-packages (from datasets->-r requirements.txt (line 4)) (3.5.0)\n",
      "Requirement already satisfied: multiprocess<0.70.17 in /Users/aamanlamba/Documents/Code/FinGreyLit/.venv/lib/python3.11/site-packages (from datasets->-r requirements.txt (line 4)) (0.70.16)\n",
      "Requirement already satisfied: fsspec<=2024.9.0,>=2023.1.0 in /Users/aamanlamba/Documents/Code/FinGreyLit/.venv/lib/python3.11/site-packages (from fsspec[http]<=2024.9.0,>=2023.1.0->datasets->-r requirements.txt (line 4)) (2024.9.0)\n",
      "Requirement already satisfied: aiohttp in /Users/aamanlamba/Documents/Code/FinGreyLit/.venv/lib/python3.11/site-packages (from datasets->-r requirements.txt (line 4)) (3.11.11)\n",
      "Requirement already satisfied: typing-extensions>=3.7.4.3 in /Users/aamanlamba/Documents/Code/FinGreyLit/.venv/lib/python3.11/site-packages (from huggingface_hub->-r requirements.txt (line 5)) (4.12.2)\n",
      "Requirement already satisfied: python-dateutil>=2.8.2 in /Users/aamanlamba/Documents/Code/FinGreyLit/.venv/lib/python3.11/site-packages (from pandas->-r requirements.txt (line 6)) (2.9.0.post0)\n",
      "Requirement already satisfied: pytz>=2020.1 in /Users/aamanlamba/Documents/Code/FinGreyLit/.venv/lib/python3.11/site-packages (from pandas->-r requirements.txt (line 6)) (2024.2)\n",
      "Requirement already satisfied: tzdata>=2022.7 in /Users/aamanlamba/Documents/Code/FinGreyLit/.venv/lib/python3.11/site-packages (from pandas->-r requirements.txt (line 6)) (2024.2)\n",
      "Requirement already satisfied: contourpy>=1.0.1 in /Users/aamanlamba/Documents/Code/FinGreyLit/.venv/lib/python3.11/site-packages (from matplotlib->-r requirements.txt (line 7)) (1.3.1)\n",
      "Requirement already satisfied: cycler>=0.10 in /Users/aamanlamba/Documents/Code/FinGreyLit/.venv/lib/python3.11/site-packages (from matplotlib->-r requirements.txt (line 7)) (0.12.1)\n",
      "Requirement already satisfied: fonttools>=4.22.0 in /Users/aamanlamba/Documents/Code/FinGreyLit/.venv/lib/python3.11/site-packages (from matplotlib->-r requirements.txt (line 7)) (4.55.3)\n",
      "Requirement already satisfied: kiwisolver>=1.3.1 in /Users/aamanlamba/Documents/Code/FinGreyLit/.venv/lib/python3.11/site-packages (from matplotlib->-r requirements.txt (line 7)) (1.4.8)\n",
      "Requirement already satisfied: pillow>=8 in /Users/aamanlamba/Documents/Code/FinGreyLit/.venv/lib/python3.11/site-packages (from matplotlib->-r requirements.txt (line 7)) (11.1.0)\n",
      "Requirement already satisfied: pyparsing>=2.3.1 in /Users/aamanlamba/Documents/Code/FinGreyLit/.venv/lib/python3.11/site-packages (from matplotlib->-r requirements.txt (line 7)) (3.2.1)\n",
      "Requirement already satisfied: httpx<0.28.0,>=0.27.0 in /Users/aamanlamba/Documents/Code/FinGreyLit/.venv/lib/python3.11/site-packages (from ollama->-r requirements.txt (line 9)) (0.27.2)\n",
      "Requirement already satisfied: pydantic<3.0.0,>=2.9.0 in /Users/aamanlamba/Documents/Code/FinGreyLit/.venv/lib/python3.11/site-packages (from ollama->-r requirements.txt (line 9)) (2.10.4)\n",
      "Requirement already satisfied: aiohappyeyeballs>=2.3.0 in /Users/aamanlamba/Documents/Code/FinGreyLit/.venv/lib/python3.11/site-packages (from aiohttp->datasets->-r requirements.txt (line 4)) (2.4.4)\n",
      "Requirement already satisfied: aiosignal>=1.1.2 in /Users/aamanlamba/Documents/Code/FinGreyLit/.venv/lib/python3.11/site-packages (from aiohttp->datasets->-r requirements.txt (line 4)) (1.3.2)\n",
      "Requirement already satisfied: attrs>=17.3.0 in /Users/aamanlamba/Documents/Code/FinGreyLit/.venv/lib/python3.11/site-packages (from aiohttp->datasets->-r requirements.txt (line 4)) (24.3.0)\n",
      "Requirement already satisfied: frozenlist>=1.1.1 in /Users/aamanlamba/Documents/Code/FinGreyLit/.venv/lib/python3.11/site-packages (from aiohttp->datasets->-r requirements.txt (line 4)) (1.5.0)\n",
      "Requirement already satisfied: multidict<7.0,>=4.5 in /Users/aamanlamba/Documents/Code/FinGreyLit/.venv/lib/python3.11/site-packages (from aiohttp->datasets->-r requirements.txt (line 4)) (6.1.0)\n",
      "Requirement already satisfied: propcache>=0.2.0 in /Users/aamanlamba/Documents/Code/FinGreyLit/.venv/lib/python3.11/site-packages (from aiohttp->datasets->-r requirements.txt (line 4)) (0.2.1)\n",
      "Requirement already satisfied: yarl<2.0,>=1.17.0 in /Users/aamanlamba/Documents/Code/FinGreyLit/.venv/lib/python3.11/site-packages (from aiohttp->datasets->-r requirements.txt (line 4)) (1.18.3)\n",
      "Requirement already satisfied: anyio in /Users/aamanlamba/Documents/Code/FinGreyLit/.venv/lib/python3.11/site-packages (from httpx<0.28.0,>=0.27.0->ollama->-r requirements.txt (line 9)) (4.7.0)\n",
      "Requirement already satisfied: certifi in /Users/aamanlamba/Documents/Code/FinGreyLit/.venv/lib/python3.11/site-packages (from httpx<0.28.0,>=0.27.0->ollama->-r requirements.txt (line 9)) (2024.12.14)\n",
      "Requirement already satisfied: httpcore==1.* in /Users/aamanlamba/Documents/Code/FinGreyLit/.venv/lib/python3.11/site-packages (from httpx<0.28.0,>=0.27.0->ollama->-r requirements.txt (line 9)) (1.0.7)\n",
      "Requirement already satisfied: idna in /Users/aamanlamba/Documents/Code/FinGreyLit/.venv/lib/python3.11/site-packages (from httpx<0.28.0,>=0.27.0->ollama->-r requirements.txt (line 9)) (3.10)\n",
      "Requirement already satisfied: sniffio in /Users/aamanlamba/Documents/Code/FinGreyLit/.venv/lib/python3.11/site-packages (from httpx<0.28.0,>=0.27.0->ollama->-r requirements.txt (line 9)) (1.3.1)\n",
      "Requirement already satisfied: h11<0.15,>=0.13 in /Users/aamanlamba/Documents/Code/FinGreyLit/.venv/lib/python3.11/site-packages (from httpcore==1.*->httpx<0.28.0,>=0.27.0->ollama->-r requirements.txt (line 9)) (0.14.0)\n",
      "Requirement already satisfied: annotated-types>=0.6.0 in /Users/aamanlamba/Documents/Code/FinGreyLit/.venv/lib/python3.11/site-packages (from pydantic<3.0.0,>=2.9.0->ollama->-r requirements.txt (line 9)) (0.7.0)\n",
      "Requirement already satisfied: pydantic-core==2.27.2 in /Users/aamanlamba/Documents/Code/FinGreyLit/.venv/lib/python3.11/site-packages (from pydantic<3.0.0,>=2.9.0->ollama->-r requirements.txt (line 9)) (2.27.2)\n",
      "Requirement already satisfied: six>=1.5 in /Users/aamanlamba/Documents/Code/FinGreyLit/.venv/lib/python3.11/site-packages (from python-dateutil>=2.8.2->pandas->-r requirements.txt (line 6)) (1.17.0)\n",
      "Requirement already satisfied: charset-normalizer<4,>=2 in /Users/aamanlamba/Documents/Code/FinGreyLit/.venv/lib/python3.11/site-packages (from requests->transformers->-r requirements.txt (line 3)) (3.4.1)\n",
      "Requirement already satisfied: urllib3<3,>=1.21.1 in /Users/aamanlamba/Documents/Code/FinGreyLit/.venv/lib/python3.11/site-packages (from requests->transformers->-r requirements.txt (line 3)) (2.3.0)\n",
      "Requirement already satisfied: sentencepiece!=0.1.92,>=0.1.91 in /Users/aamanlamba/Documents/Code/FinGreyLit/.venv/lib/python3.11/site-packages (from transformers[sentencepiece]>=4.39.3->mlx_lm->-r requirements.txt (line 2)) (0.2.0)\n",
      "Requirement already satisfied: MarkupSafe>=2.0 in /Users/aamanlamba/Documents/Code/FinGreyLit/.venv/lib/python3.11/site-packages (from jinja2->mlx_lm->-r requirements.txt (line 2)) (3.0.2)\n",
      "Using cached mlx_lm-0.20.5-py3-none-any.whl (133 kB)\n",
      "Using cached datasets-3.2.0-py3-none-any.whl (480 kB)\n",
      "Installing collected packages: datasets, mlx_lm\n",
      "Successfully installed datasets-3.2.0 mlx_lm-0.20.5\n",
      "Note: you may need to restart the kernel to use updated packages.\n"
     ]
    }
   ],
   "source": [
    "%pip install -r requirements.txt"
   ]
  },
  {
   "cell_type": "code",
   "execution_count": 2,
   "metadata": {},
   "outputs": [
    {
     "name": "stdout",
     "output_type": "stream",
     "text": [
      "meta-llama/Llama-3.2-1B-Instruct\n",
      "Llama-3.2-1B-Instruct\n"
     ]
    }
   ],
   "source": [
    "# set model name etc.\n",
    "\n",
    "MODEL_NAME = \"meta-llama/Llama-3.2-1B-Instruct\"\n",
    "MODEL_SHORT_NAME = MODEL_NAME.split('/')[-1]\n",
    "SUFFIX = \"FinGreyLit-MLX\"\n",
    "#SLICE = 1\n",
    "print(MODEL_NAME)\n",
    "print(MODEL_SHORT_NAME)"
   ]
  },
  {
   "cell_type": "code",
   "execution_count": 4,
   "metadata": {},
   "outputs": [
    {
     "name": "stdout",
     "output_type": "stream",
     "text": [
      "Wrote 64 train records\n",
      "Wrote 15 test records\n",
      "Wrote 6 eval records\n"
     ]
    }
   ],
   "source": [
    "# Load and prepare fine-tuning dataset\n",
    "\n",
    "import json\n",
    "import glob\n",
    "import random\n",
    "\n",
    "random.seed(42)  # for deterministic sampling of test set\n",
    "\n",
    "train_files = glob.glob(\"../../llm-dataset/*-train.jsonl\") + glob.glob(\"../../llm-dataset/norrep.jsonl\")\n",
    "test_files = glob.glob(\"../../llm-dataset/*-test.jsonl\")\n",
    "\n",
    "EVAL_SIZE = 6  # how many documents to evaluate (i.e. calculate loss) on during fine-tuning\n",
    "SYSTEM_PROMPT = \"You are a skilled librarian specialized in meticulous cataloguing of digital documents.\"\n",
    "INSTRUCTION = \"Extract metadata from this document. Return as JSON.\"\n",
    "\n",
    "def preprocess_sample(sample):\n",
    "    output = json.dumps(sample[\"ground_truth\"])\n",
    "    input_ = json.dumps(sample[\"content\"])\n",
    "    # ShareGPT format\n",
    "    conversations = [\n",
    "        {'from': 'system', 'value': SYSTEM_PROMPT},\n",
    "        {'from': 'user', 'value': INSTRUCTION + \"\\n\\n\" + input_},\n",
    "        {'from': 'gpt', 'value': output}\n",
    "    ]\n",
    "    return {\"conversations\": conversations}\n",
    "\n",
    "def dataset_to_records(files):\n",
    "    records = []\n",
    "    for filename in files:\n",
    "        with open(filename) as infile:\n",
    "            for line in infile:\n",
    "                sample = json.loads(line)\n",
    "                records.append(preprocess_sample(sample))\n",
    "    return records\n",
    "\n",
    "def write_jsonl(records, filename):\n",
    "    with open(filename, \"w\") as outfile:\n",
    "        for record in records:\n",
    "            json.dump(record, outfile)\n",
    "            outfile.write(\"\\n\")\n",
    "\n",
    "train_recs = dataset_to_records(train_files)\n",
    "random.shuffle(train_recs)\n",
    "write_jsonl(train_recs, \"mlx-train.jsonl\")\n",
    "print(f\"Wrote {len(train_recs)} train records\")\n",
    "\n",
    "test_recs = dataset_to_records(test_files)\n",
    "write_jsonl(test_recs, \"mlx-test.jsonl\")\n",
    "print(f\"Wrote {len(test_recs)} test records\")\n",
    "\n",
    "eval_recs = random.sample(test_recs, EVAL_SIZE)\n",
    "write_jsonl(eval_recs, \"mlx-eval.jsonl\")\n",
    "print(f\"Wrote {len(eval_recs)} eval records\")"
   ]
  },
  {
   "cell_type": "code",
   "execution_count": null,
   "metadata": {},
   "outputs": [],
   "source": [
    "# Load and finetune LLM\n",
    "from mlx_lm import generate,load\n",
    "from huggingface_hub import login\n",
    "\n",
    "import os\n",
    "from dotenv import load_dotenv"
   ]
  }
 ],
 "metadata": {
  "kernelspec": {
   "display_name": ".venv",
   "language": "python",
   "name": "python3"
  },
  "language_info": {
   "codemirror_mode": {
    "name": "ipython",
    "version": 3
   },
   "file_extension": ".py",
   "mimetype": "text/x-python",
   "name": "python",
   "nbconvert_exporter": "python",
   "pygments_lexer": "ipython3",
   "version": "3.11.6"
  }
 },
 "nbformat": 4,
 "nbformat_minor": 2
}
